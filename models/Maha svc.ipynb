{
 "cells": [
  {
   "cell_type": "code",
   "execution_count": 10,
   "metadata": {
    "scrolled": true
   },
   "outputs": [
    {
     "data": {
      "text/html": [
       "<div>\n",
       "<style scoped>\n",
       "    .dataframe tbody tr th:only-of-type {\n",
       "        vertical-align: middle;\n",
       "    }\n",
       "\n",
       "    .dataframe tbody tr th {\n",
       "        vertical-align: top;\n",
       "    }\n",
       "\n",
       "    .dataframe thead th {\n",
       "        text-align: right;\n",
       "    }\n",
       "</style>\n",
       "<table border=\"1\" class=\"dataframe\">\n",
       "  <thead>\n",
       "    <tr style=\"text-align: right;\">\n",
       "      <th></th>\n",
       "      <th>date</th>\n",
       "      <th>state</th>\n",
       "      <th>district</th>\n",
       "      <th>rainfall</th>\n",
       "      <th>RH</th>\n",
       "      <th>tmin</th>\n",
       "      <th>tmax</th>\n",
       "      <th>occurred</th>\n",
       "    </tr>\n",
       "  </thead>\n",
       "  <tbody>\n",
       "    <tr>\n",
       "      <th>0</th>\n",
       "      <td>2010-01-01</td>\n",
       "      <td>MAHARASHTRA</td>\n",
       "      <td>AHMADNAGAR</td>\n",
       "      <td>0.0</td>\n",
       "      <td>59.11</td>\n",
       "      <td>12.74</td>\n",
       "      <td>28.1</td>\n",
       "      <td>NO</td>\n",
       "    </tr>\n",
       "    <tr>\n",
       "      <th>1</th>\n",
       "      <td>2010-02-01</td>\n",
       "      <td>MAHARASHTRA</td>\n",
       "      <td>AHMADNAGAR</td>\n",
       "      <td>0.0</td>\n",
       "      <td>55.53</td>\n",
       "      <td>14.71</td>\n",
       "      <td>29.0</td>\n",
       "      <td>NO</td>\n",
       "    </tr>\n",
       "    <tr>\n",
       "      <th>2</th>\n",
       "      <td>2010-03-01</td>\n",
       "      <td>MAHARASHTRA</td>\n",
       "      <td>AHMADNAGAR</td>\n",
       "      <td>0.0</td>\n",
       "      <td>61.05</td>\n",
       "      <td>15.98</td>\n",
       "      <td>30.4</td>\n",
       "      <td>NO</td>\n",
       "    </tr>\n",
       "    <tr>\n",
       "      <th>3</th>\n",
       "      <td>2010-04-01</td>\n",
       "      <td>MAHARASHTRA</td>\n",
       "      <td>AHMADNAGAR</td>\n",
       "      <td>0.0</td>\n",
       "      <td>69.23</td>\n",
       "      <td>17.12</td>\n",
       "      <td>30.1</td>\n",
       "      <td>NO</td>\n",
       "    </tr>\n",
       "    <tr>\n",
       "      <th>4</th>\n",
       "      <td>2010-05-01</td>\n",
       "      <td>MAHARASHTRA</td>\n",
       "      <td>AHMADNAGAR</td>\n",
       "      <td>0.0</td>\n",
       "      <td>63.04</td>\n",
       "      <td>14.43</td>\n",
       "      <td>28.9</td>\n",
       "      <td>NO</td>\n",
       "    </tr>\n",
       "  </tbody>\n",
       "</table>\n",
       "</div>"
      ],
      "text/plain": [
       "        date        state    district  rainfall     RH   tmin  tmax occurred\n",
       "0 2010-01-01  MAHARASHTRA  AHMADNAGAR       0.0  59.11  12.74  28.1       NO\n",
       "1 2010-02-01  MAHARASHTRA  AHMADNAGAR       0.0  55.53  14.71  29.0       NO\n",
       "2 2010-03-01  MAHARASHTRA  AHMADNAGAR       0.0  61.05  15.98  30.4       NO\n",
       "3 2010-04-01  MAHARASHTRA  AHMADNAGAR       0.0  69.23  17.12  30.1       NO\n",
       "4 2010-05-01  MAHARASHTRA  AHMADNAGAR       0.0  63.04  14.43  28.9       NO"
      ]
     },
     "execution_count": 10,
     "metadata": {},
     "output_type": "execute_result"
    }
   ],
   "source": [
    "import pandas as pd\n",
    "df=pd.read_csv(\"MahaClimate.csv\",parse_dates=['date'])\n",
    "\n",
    "df.head()"
   ]
  },
  {
   "cell_type": "code",
   "execution_count": 11,
   "metadata": {
    "scrolled": true
   },
   "outputs": [
    {
     "name": "stderr",
     "output_type": "stream",
     "text": [
      "D:\\Users\\Lenovo\\anaconda3\\lib\\site-packages\\ipykernel_launcher.py:4: SettingWithCopyWarning: \n",
      "A value is trying to be set on a copy of a slice from a DataFrame\n",
      "\n",
      "See the caveats in the documentation: https://pandas.pydata.org/pandas-docs/stable/user_guide/indexing.html#returning-a-view-versus-a-copy\n",
      "  after removing the cwd from sys.path.\n",
      "D:\\Users\\Lenovo\\anaconda3\\lib\\site-packages\\ipykernel_launcher.py:6: SettingWithCopyWarning: \n",
      "A value is trying to be set on a copy of a slice from a DataFrame\n",
      "\n",
      "See the caveats in the documentation: https://pandas.pydata.org/pandas-docs/stable/user_guide/indexing.html#returning-a-view-versus-a-copy\n",
      "  \n"
     ]
    },
    {
     "data": {
      "text/html": [
       "<div>\n",
       "<style scoped>\n",
       "    .dataframe tbody tr th:only-of-type {\n",
       "        vertical-align: middle;\n",
       "    }\n",
       "\n",
       "    .dataframe tbody tr th {\n",
       "        vertical-align: top;\n",
       "    }\n",
       "\n",
       "    .dataframe thead th {\n",
       "        text-align: right;\n",
       "    }\n",
       "</style>\n",
       "<table border=\"1\" class=\"dataframe\">\n",
       "  <thead>\n",
       "    <tr style=\"text-align: right;\">\n",
       "      <th></th>\n",
       "      <th>date</th>\n",
       "      <th>state</th>\n",
       "      <th>district</th>\n",
       "      <th>rainfall</th>\n",
       "      <th>RH</th>\n",
       "      <th>tmin</th>\n",
       "      <th>tmax</th>\n",
       "      <th>occurred</th>\n",
       "    </tr>\n",
       "  </thead>\n",
       "  <tbody>\n",
       "    <tr>\n",
       "      <th>0</th>\n",
       "      <td>2010-01-01</td>\n",
       "      <td>MAHARASHTRA</td>\n",
       "      <td>AHMADNAGAR</td>\n",
       "      <td>0.0</td>\n",
       "      <td>59.11</td>\n",
       "      <td>12.74</td>\n",
       "      <td>28.1</td>\n",
       "      <td>0</td>\n",
       "    </tr>\n",
       "    <tr>\n",
       "      <th>1</th>\n",
       "      <td>2010-02-01</td>\n",
       "      <td>MAHARASHTRA</td>\n",
       "      <td>AHMADNAGAR</td>\n",
       "      <td>0.0</td>\n",
       "      <td>55.53</td>\n",
       "      <td>14.71</td>\n",
       "      <td>29.0</td>\n",
       "      <td>0</td>\n",
       "    </tr>\n",
       "    <tr>\n",
       "      <th>2</th>\n",
       "      <td>2010-03-01</td>\n",
       "      <td>MAHARASHTRA</td>\n",
       "      <td>AHMADNAGAR</td>\n",
       "      <td>0.0</td>\n",
       "      <td>61.05</td>\n",
       "      <td>15.98</td>\n",
       "      <td>30.4</td>\n",
       "      <td>0</td>\n",
       "    </tr>\n",
       "    <tr>\n",
       "      <th>3</th>\n",
       "      <td>2010-04-01</td>\n",
       "      <td>MAHARASHTRA</td>\n",
       "      <td>AHMADNAGAR</td>\n",
       "      <td>0.0</td>\n",
       "      <td>69.23</td>\n",
       "      <td>17.12</td>\n",
       "      <td>30.1</td>\n",
       "      <td>0</td>\n",
       "    </tr>\n",
       "    <tr>\n",
       "      <th>4</th>\n",
       "      <td>2010-05-01</td>\n",
       "      <td>MAHARASHTRA</td>\n",
       "      <td>AHMADNAGAR</td>\n",
       "      <td>0.0</td>\n",
       "      <td>63.04</td>\n",
       "      <td>14.43</td>\n",
       "      <td>28.9</td>\n",
       "      <td>0</td>\n",
       "    </tr>\n",
       "  </tbody>\n",
       "</table>\n",
       "</div>"
      ],
      "text/plain": [
       "        date        state    district  rainfall     RH   tmin  tmax occurred\n",
       "0 2010-01-01  MAHARASHTRA  AHMADNAGAR       0.0  59.11  12.74  28.1        0\n",
       "1 2010-02-01  MAHARASHTRA  AHMADNAGAR       0.0  55.53  14.71  29.0        0\n",
       "2 2010-03-01  MAHARASHTRA  AHMADNAGAR       0.0  61.05  15.98  30.4        0\n",
       "3 2010-04-01  MAHARASHTRA  AHMADNAGAR       0.0  69.23  17.12  30.1        0\n",
       "4 2010-05-01  MAHARASHTRA  AHMADNAGAR       0.0  63.04  14.43  28.9        0"
      ]
     },
     "execution_count": 11,
     "metadata": {},
     "output_type": "execute_result"
    }
   ],
   "source": [
    "c=0\n",
    "for i in df['occurred']:\n",
    "    if i=='NO':\n",
    "        df['occurred'][c]=0\n",
    "    else:\n",
    "        df['occurred'][c]=1\n",
    "    c+=1\n",
    "df.head()"
   ]
  },
  {
   "cell_type": "code",
   "execution_count": 8,
   "metadata": {},
   "outputs": [
    {
     "data": {
      "text/plain": [
       "date        datetime64[ns]\n",
       "state               object\n",
       "district            object\n",
       "rainfall           float64\n",
       "RH                 float64\n",
       "tmin               float64\n",
       "tmax               float64\n",
       "occurred            object\n",
       "dtype: object"
      ]
     },
     "execution_count": 8,
     "metadata": {},
     "output_type": "execute_result"
    }
   ],
   "source": [
    "df.dtypes"
   ]
  },
  {
   "cell_type": "code",
   "execution_count": 14,
   "metadata": {},
   "outputs": [
    {
     "name": "stdout",
     "output_type": "stream",
     "text": [
      "0.9242911429406606\n"
     ]
    }
   ],
   "source": [
    "from sklearn import svm\n",
    "X=df[['rainfall','RH','tmin','tmax']]\n",
    "y=df['occurred']\n",
    "y=y.astype('int')\n",
    "from sklearn.model_selection import train_test_split\n",
    "x_train,x_test,y_train,y_test=train_test_split(X,y,test_size=0.3,random_state=0)\n",
    "clf = svm.SVC()\n",
    "clf.fit(x_train, y_train)\n",
    "y_pred = clf.predict(x_test.values)\n",
    "from sklearn import metrics\n",
    "print(clf.score(x_test, y_test))"
   ]
  },
  {
   "cell_type": "code",
   "execution_count": 29,
   "metadata": {},
   "outputs": [
    {
     "data": {
      "image/png": "[encoded data removed]",
      "text/plain": [
       "<Figure size 432x288 with 1 Axes>"
      ]
     },
     "metadata": {
      "needs_background": "light"
     },
     "output_type": "display_data"
    }
   ],
   "source": [
    "import matplotlib.pyplot as plt\n",
    "plt.plot(y_pred)\n",
    "plt.show()"
   ]
  }
 ],
 "metadata": {
  "kernelspec": {
   "display_name": "Python 3",
   "language": "python",
   "name": "python3"
  },
  "language_info": {
   "codemirror_mode": {
    "name": "ipython",
    "version": 3
   },
   "file_extension": ".py",
   "mimetype": "text/x-python",
   "name": "python",
   "nbconvert_exporter": "python",
   "pygments_lexer": "ipython3",
   "version": "3.7.6"
  }
 },
 "nbformat": 4,
 "nbformat_minor": 4
}
